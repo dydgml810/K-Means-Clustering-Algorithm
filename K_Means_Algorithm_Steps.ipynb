{
  "nbformat": 4,
  "nbformat_minor": 0,
  "metadata": {
    "colab": {
      "provenance": []
    },
    "kernelspec": {
      "name": "python3",
      "display_name": "Python 3"
    },
    "language_info": {
      "name": "python"
    }
  },
  "cells": [
    {
      "cell_type": "markdown",
      "source": [
        "# K-Means Clustering Algorithm 파이썬 구현\n",
        "\n",
        "## 1. 데이터 불러오기\n",
        "## 2. 데이터 파악\n",
        "## 3. 데이터 시각화\n",
        "## 4. 클러스터 개수 k 설정 및 k개의 클러스터에 데이터 랜덤하게 할당\n",
        "\n",
        "> 4.1. 클러스터 개수 k 설정\n",
        "\n",
        "> 4.2. k개의 클러스터에 데이터 랜덤 할당\n",
        "## 5. 각 클러스터의 평균(centroid)를 구하고, 평가값 계산\n",
        "\n",
        "> 5.1. 각 클러스터의 평균(centroid) 계산\n",
        "\n",
        "> 5.2. 각 클러스터 안에 있는 모든 데이터에서 평균(centroid)까지의 거리 합 계산\n",
        "\n",
        "> 5.3. 평가값 산출\n",
        "\n",
        "## 6. 모든 데이터를 k개의 평균(centroid) 중에서 가장 가까운 클러스터로 재할당하여 **새로운 클러스터 해 구성**\n",
        "\n",
        "## 7. 클러스터 해의 변화가 있는지 확인\n",
        "\n",
        "> 7.1. 새로운 클러스터의 평균(centroid) 계산\n",
        "\n",
        "> 7.2. 이전의 centroids와 새로운 centroids 비교\n",
        "\n",
        "## 8. 변화가 있다면 6번으로 다시 돌아가서 반복하고, 변화가 없다면 결과값 출력"
      ],
      "metadata": {
        "id": "kGnQ-DC6bjcF"
      }
    },
    {
      "cell_type": "code",
      "execution_count": null,
      "metadata": {
        "id": "AphyrHhEW_gU"
      },
      "outputs": [],
      "source": [
        "import numpy as np\n",
        "import pandas as pd\n",
        "import matplotlib.pyplot as plt"
      ]
    },
    {
      "cell_type": "markdown",
      "source": [
        "## 1. 데이터 불러오기"
      ],
      "metadata": {
        "id": "cVv06iiechEk"
      }
    },
    {
      "cell_type": "code",
      "source": [
        "ruspini = pd.read_table(\"ruspini.txt\", sep=\" \")\n",
        "ruspini"
      ],
      "metadata": {
        "colab": {
          "base_uri": "https://localhost:8080/",
          "height": 424
        },
        "id": "vnNryAWIXf7A",
        "outputId": "593713b6-b434-4404-ef62-8f4c0b7902af"
      },
      "execution_count": null,
      "outputs": [
        {
          "output_type": "execute_result",
          "data": {
            "text/plain": [
              "     x   y\n",
              "0    4  53\n",
              "1    5  63\n",
              "2   10  59\n",
              "3    9  77\n",
              "4   13  49\n",
              "..  ..  ..\n",
              "70  66  23\n",
              "71  61  25\n",
              "72  76  27\n",
              "73  72  31\n",
              "74  64  30\n",
              "\n",
              "[75 rows x 2 columns]"
            ],
            "text/html": [
              "\n",
              "  <div id=\"df-aa609890-9606-443d-8e19-f0db6497cee7\" class=\"colab-df-container\">\n",
              "    <div>\n",
              "<style scoped>\n",
              "    .dataframe tbody tr th:only-of-type {\n",
              "        vertical-align: middle;\n",
              "    }\n",
              "\n",
              "    .dataframe tbody tr th {\n",
              "        vertical-align: top;\n",
              "    }\n",
              "\n",
              "    .dataframe thead th {\n",
              "        text-align: right;\n",
              "    }\n",
              "</style>\n",
              "<table border=\"1\" class=\"dataframe\">\n",
              "  <thead>\n",
              "    <tr style=\"text-align: right;\">\n",
              "      <th></th>\n",
              "      <th>x</th>\n",
              "      <th>y</th>\n",
              "    </tr>\n",
              "  </thead>\n",
              "  <tbody>\n",
              "    <tr>\n",
              "      <th>0</th>\n",
              "      <td>4</td>\n",
              "      <td>53</td>\n",
              "    </tr>\n",
              "    <tr>\n",
              "      <th>1</th>\n",
              "      <td>5</td>\n",
              "      <td>63</td>\n",
              "    </tr>\n",
              "    <tr>\n",
              "      <th>2</th>\n",
              "      <td>10</td>\n",
              "      <td>59</td>\n",
              "    </tr>\n",
              "    <tr>\n",
              "      <th>3</th>\n",
              "      <td>9</td>\n",
              "      <td>77</td>\n",
              "    </tr>\n",
              "    <tr>\n",
              "      <th>4</th>\n",
              "      <td>13</td>\n",
              "      <td>49</td>\n",
              "    </tr>\n",
              "    <tr>\n",
              "      <th>...</th>\n",
              "      <td>...</td>\n",
              "      <td>...</td>\n",
              "    </tr>\n",
              "    <tr>\n",
              "      <th>70</th>\n",
              "      <td>66</td>\n",
              "      <td>23</td>\n",
              "    </tr>\n",
              "    <tr>\n",
              "      <th>71</th>\n",
              "      <td>61</td>\n",
              "      <td>25</td>\n",
              "    </tr>\n",
              "    <tr>\n",
              "      <th>72</th>\n",
              "      <td>76</td>\n",
              "      <td>27</td>\n",
              "    </tr>\n",
              "    <tr>\n",
              "      <th>73</th>\n",
              "      <td>72</td>\n",
              "      <td>31</td>\n",
              "    </tr>\n",
              "    <tr>\n",
              "      <th>74</th>\n",
              "      <td>64</td>\n",
              "      <td>30</td>\n",
              "    </tr>\n",
              "  </tbody>\n",
              "</table>\n",
              "<p>75 rows × 2 columns</p>\n",
              "</div>\n",
              "    <div class=\"colab-df-buttons\">\n",
              "\n",
              "  <div class=\"colab-df-container\">\n",
              "    <button class=\"colab-df-convert\" onclick=\"convertToInteractive('df-aa609890-9606-443d-8e19-f0db6497cee7')\"\n",
              "            title=\"Convert this dataframe to an interactive table.\"\n",
              "            style=\"display:none;\">\n",
              "\n",
              "  <svg xmlns=\"http://www.w3.org/2000/svg\" height=\"24px\" viewBox=\"0 -960 960 960\">\n",
              "    <path d=\"M120-120v-720h720v720H120Zm60-500h600v-160H180v160Zm220 220h160v-160H400v160Zm0 220h160v-160H400v160ZM180-400h160v-160H180v160Zm440 0h160v-160H620v160ZM180-180h160v-160H180v160Zm440 0h160v-160H620v160Z\"/>\n",
              "  </svg>\n",
              "    </button>\n",
              "\n",
              "  <style>\n",
              "    .colab-df-container {\n",
              "      display:flex;\n",
              "      gap: 12px;\n",
              "    }\n",
              "\n",
              "    .colab-df-convert {\n",
              "      background-color: #E8F0FE;\n",
              "      border: none;\n",
              "      border-radius: 50%;\n",
              "      cursor: pointer;\n",
              "      display: none;\n",
              "      fill: #1967D2;\n",
              "      height: 32px;\n",
              "      padding: 0 0 0 0;\n",
              "      width: 32px;\n",
              "    }\n",
              "\n",
              "    .colab-df-convert:hover {\n",
              "      background-color: #E2EBFA;\n",
              "      box-shadow: 0px 1px 2px rgba(60, 64, 67, 0.3), 0px 1px 3px 1px rgba(60, 64, 67, 0.15);\n",
              "      fill: #174EA6;\n",
              "    }\n",
              "\n",
              "    .colab-df-buttons div {\n",
              "      margin-bottom: 4px;\n",
              "    }\n",
              "\n",
              "    [theme=dark] .colab-df-convert {\n",
              "      background-color: #3B4455;\n",
              "      fill: #D2E3FC;\n",
              "    }\n",
              "\n",
              "    [theme=dark] .colab-df-convert:hover {\n",
              "      background-color: #434B5C;\n",
              "      box-shadow: 0px 1px 3px 1px rgba(0, 0, 0, 0.15);\n",
              "      filter: drop-shadow(0px 1px 2px rgba(0, 0, 0, 0.3));\n",
              "      fill: #FFFFFF;\n",
              "    }\n",
              "  </style>\n",
              "\n",
              "    <script>\n",
              "      const buttonEl =\n",
              "        document.querySelector('#df-aa609890-9606-443d-8e19-f0db6497cee7 button.colab-df-convert');\n",
              "      buttonEl.style.display =\n",
              "        google.colab.kernel.accessAllowed ? 'block' : 'none';\n",
              "\n",
              "      async function convertToInteractive(key) {\n",
              "        const element = document.querySelector('#df-aa609890-9606-443d-8e19-f0db6497cee7');\n",
              "        const dataTable =\n",
              "          await google.colab.kernel.invokeFunction('convertToInteractive',\n",
              "                                                    [key], {});\n",
              "        if (!dataTable) return;\n",
              "\n",
              "        const docLinkHtml = 'Like what you see? Visit the ' +\n",
              "          '<a target=\"_blank\" href=https://colab.research.google.com/notebooks/data_table.ipynb>data table notebook</a>'\n",
              "          + ' to learn more about interactive tables.';\n",
              "        element.innerHTML = '';\n",
              "        dataTable['output_type'] = 'display_data';\n",
              "        await google.colab.output.renderOutput(dataTable, element);\n",
              "        const docLink = document.createElement('div');\n",
              "        docLink.innerHTML = docLinkHtml;\n",
              "        element.appendChild(docLink);\n",
              "      }\n",
              "    </script>\n",
              "  </div>\n",
              "\n",
              "\n",
              "<div id=\"df-71066642-ca09-43ef-b313-f0c9abe3adfd\">\n",
              "  <button class=\"colab-df-quickchart\" onclick=\"quickchart('df-71066642-ca09-43ef-b313-f0c9abe3adfd')\"\n",
              "            title=\"Suggest charts.\"\n",
              "            style=\"display:none;\">\n",
              "\n",
              "<svg xmlns=\"http://www.w3.org/2000/svg\" height=\"24px\"viewBox=\"0 0 24 24\"\n",
              "     width=\"24px\">\n",
              "    <g>\n",
              "        <path d=\"M19 3H5c-1.1 0-2 .9-2 2v14c0 1.1.9 2 2 2h14c1.1 0 2-.9 2-2V5c0-1.1-.9-2-2-2zM9 17H7v-7h2v7zm4 0h-2V7h2v10zm4 0h-2v-4h2v4z\"/>\n",
              "    </g>\n",
              "</svg>\n",
              "  </button>\n",
              "\n",
              "<style>\n",
              "  .colab-df-quickchart {\n",
              "      --bg-color: #E8F0FE;\n",
              "      --fill-color: #1967D2;\n",
              "      --hover-bg-color: #E2EBFA;\n",
              "      --hover-fill-color: #174EA6;\n",
              "      --disabled-fill-color: #AAA;\n",
              "      --disabled-bg-color: #DDD;\n",
              "  }\n",
              "\n",
              "  [theme=dark] .colab-df-quickchart {\n",
              "      --bg-color: #3B4455;\n",
              "      --fill-color: #D2E3FC;\n",
              "      --hover-bg-color: #434B5C;\n",
              "      --hover-fill-color: #FFFFFF;\n",
              "      --disabled-bg-color: #3B4455;\n",
              "      --disabled-fill-color: #666;\n",
              "  }\n",
              "\n",
              "  .colab-df-quickchart {\n",
              "    background-color: var(--bg-color);\n",
              "    border: none;\n",
              "    border-radius: 50%;\n",
              "    cursor: pointer;\n",
              "    display: none;\n",
              "    fill: var(--fill-color);\n",
              "    height: 32px;\n",
              "    padding: 0;\n",
              "    width: 32px;\n",
              "  }\n",
              "\n",
              "  .colab-df-quickchart:hover {\n",
              "    background-color: var(--hover-bg-color);\n",
              "    box-shadow: 0 1px 2px rgba(60, 64, 67, 0.3), 0 1px 3px 1px rgba(60, 64, 67, 0.15);\n",
              "    fill: var(--button-hover-fill-color);\n",
              "  }\n",
              "\n",
              "  .colab-df-quickchart-complete:disabled,\n",
              "  .colab-df-quickchart-complete:disabled:hover {\n",
              "    background-color: var(--disabled-bg-color);\n",
              "    fill: var(--disabled-fill-color);\n",
              "    box-shadow: none;\n",
              "  }\n",
              "\n",
              "  .colab-df-spinner {\n",
              "    border: 2px solid var(--fill-color);\n",
              "    border-color: transparent;\n",
              "    border-bottom-color: var(--fill-color);\n",
              "    animation:\n",
              "      spin 1s steps(1) infinite;\n",
              "  }\n",
              "\n",
              "  @keyframes spin {\n",
              "    0% {\n",
              "      border-color: transparent;\n",
              "      border-bottom-color: var(--fill-color);\n",
              "      border-left-color: var(--fill-color);\n",
              "    }\n",
              "    20% {\n",
              "      border-color: transparent;\n",
              "      border-left-color: var(--fill-color);\n",
              "      border-top-color: var(--fill-color);\n",
              "    }\n",
              "    30% {\n",
              "      border-color: transparent;\n",
              "      border-left-color: var(--fill-color);\n",
              "      border-top-color: var(--fill-color);\n",
              "      border-right-color: var(--fill-color);\n",
              "    }\n",
              "    40% {\n",
              "      border-color: transparent;\n",
              "      border-right-color: var(--fill-color);\n",
              "      border-top-color: var(--fill-color);\n",
              "    }\n",
              "    60% {\n",
              "      border-color: transparent;\n",
              "      border-right-color: var(--fill-color);\n",
              "    }\n",
              "    80% {\n",
              "      border-color: transparent;\n",
              "      border-right-color: var(--fill-color);\n",
              "      border-bottom-color: var(--fill-color);\n",
              "    }\n",
              "    90% {\n",
              "      border-color: transparent;\n",
              "      border-bottom-color: var(--fill-color);\n",
              "    }\n",
              "  }\n",
              "</style>\n",
              "\n",
              "  <script>\n",
              "    async function quickchart(key) {\n",
              "      const quickchartButtonEl =\n",
              "        document.querySelector('#' + key + ' button');\n",
              "      quickchartButtonEl.disabled = true;  // To prevent multiple clicks.\n",
              "      quickchartButtonEl.classList.add('colab-df-spinner');\n",
              "      try {\n",
              "        const charts = await google.colab.kernel.invokeFunction(\n",
              "            'suggestCharts', [key], {});\n",
              "      } catch (error) {\n",
              "        console.error('Error during call to suggestCharts:', error);\n",
              "      }\n",
              "      quickchartButtonEl.classList.remove('colab-df-spinner');\n",
              "      quickchartButtonEl.classList.add('colab-df-quickchart-complete');\n",
              "    }\n",
              "    (() => {\n",
              "      let quickchartButtonEl =\n",
              "        document.querySelector('#df-71066642-ca09-43ef-b313-f0c9abe3adfd button');\n",
              "      quickchartButtonEl.style.display =\n",
              "        google.colab.kernel.accessAllowed ? 'block' : 'none';\n",
              "    })();\n",
              "  </script>\n",
              "</div>\n",
              "    </div>\n",
              "  </div>\n"
            ]
          },
          "metadata": {},
          "execution_count": 7
        }
      ]
    },
    {
      "cell_type": "markdown",
      "source": [
        "## 2. 데이터 파악"
      ],
      "metadata": {
        "id": "9l0IRcNwcktE"
      }
    },
    {
      "cell_type": "code",
      "source": [
        "ruspini.describe()"
      ],
      "metadata": {
        "colab": {
          "base_uri": "https://localhost:8080/",
          "height": 300
        },
        "id": "fVcKBKaKX0Ke",
        "outputId": "c700df0b-c78b-4eab-8b73-bd01ff3fc293"
      },
      "execution_count": null,
      "outputs": [
        {
          "output_type": "execute_result",
          "data": {
            "text/plain": [
              "               x           y\n",
              "count   75.00000   75.000000\n",
              "mean    54.88000   92.026667\n",
              "std     30.50253   48.702620\n",
              "min      4.00000    4.000000\n",
              "25%     31.50000   56.500000\n",
              "50%     52.00000   96.000000\n",
              "75%     76.50000  141.500000\n",
              "max    117.00000  156.000000"
            ],
            "text/html": [
              "\n",
              "  <div id=\"df-8e867384-9780-4dc3-8b9f-d708e28afbfc\" class=\"colab-df-container\">\n",
              "    <div>\n",
              "<style scoped>\n",
              "    .dataframe tbody tr th:only-of-type {\n",
              "        vertical-align: middle;\n",
              "    }\n",
              "\n",
              "    .dataframe tbody tr th {\n",
              "        vertical-align: top;\n",
              "    }\n",
              "\n",
              "    .dataframe thead th {\n",
              "        text-align: right;\n",
              "    }\n",
              "</style>\n",
              "<table border=\"1\" class=\"dataframe\">\n",
              "  <thead>\n",
              "    <tr style=\"text-align: right;\">\n",
              "      <th></th>\n",
              "      <th>x</th>\n",
              "      <th>y</th>\n",
              "    </tr>\n",
              "  </thead>\n",
              "  <tbody>\n",
              "    <tr>\n",
              "      <th>count</th>\n",
              "      <td>75.00000</td>\n",
              "      <td>75.000000</td>\n",
              "    </tr>\n",
              "    <tr>\n",
              "      <th>mean</th>\n",
              "      <td>54.88000</td>\n",
              "      <td>92.026667</td>\n",
              "    </tr>\n",
              "    <tr>\n",
              "      <th>std</th>\n",
              "      <td>30.50253</td>\n",
              "      <td>48.702620</td>\n",
              "    </tr>\n",
              "    <tr>\n",
              "      <th>min</th>\n",
              "      <td>4.00000</td>\n",
              "      <td>4.000000</td>\n",
              "    </tr>\n",
              "    <tr>\n",
              "      <th>25%</th>\n",
              "      <td>31.50000</td>\n",
              "      <td>56.500000</td>\n",
              "    </tr>\n",
              "    <tr>\n",
              "      <th>50%</th>\n",
              "      <td>52.00000</td>\n",
              "      <td>96.000000</td>\n",
              "    </tr>\n",
              "    <tr>\n",
              "      <th>75%</th>\n",
              "      <td>76.50000</td>\n",
              "      <td>141.500000</td>\n",
              "    </tr>\n",
              "    <tr>\n",
              "      <th>max</th>\n",
              "      <td>117.00000</td>\n",
              "      <td>156.000000</td>\n",
              "    </tr>\n",
              "  </tbody>\n",
              "</table>\n",
              "</div>\n",
              "    <div class=\"colab-df-buttons\">\n",
              "\n",
              "  <div class=\"colab-df-container\">\n",
              "    <button class=\"colab-df-convert\" onclick=\"convertToInteractive('df-8e867384-9780-4dc3-8b9f-d708e28afbfc')\"\n",
              "            title=\"Convert this dataframe to an interactive table.\"\n",
              "            style=\"display:none;\">\n",
              "\n",
              "  <svg xmlns=\"http://www.w3.org/2000/svg\" height=\"24px\" viewBox=\"0 -960 960 960\">\n",
              "    <path d=\"M120-120v-720h720v720H120Zm60-500h600v-160H180v160Zm220 220h160v-160H400v160Zm0 220h160v-160H400v160ZM180-400h160v-160H180v160Zm440 0h160v-160H620v160ZM180-180h160v-160H180v160Zm440 0h160v-160H620v160Z\"/>\n",
              "  </svg>\n",
              "    </button>\n",
              "\n",
              "  <style>\n",
              "    .colab-df-container {\n",
              "      display:flex;\n",
              "      gap: 12px;\n",
              "    }\n",
              "\n",
              "    .colab-df-convert {\n",
              "      background-color: #E8F0FE;\n",
              "      border: none;\n",
              "      border-radius: 50%;\n",
              "      cursor: pointer;\n",
              "      display: none;\n",
              "      fill: #1967D2;\n",
              "      height: 32px;\n",
              "      padding: 0 0 0 0;\n",
              "      width: 32px;\n",
              "    }\n",
              "\n",
              "    .colab-df-convert:hover {\n",
              "      background-color: #E2EBFA;\n",
              "      box-shadow: 0px 1px 2px rgba(60, 64, 67, 0.3), 0px 1px 3px 1px rgba(60, 64, 67, 0.15);\n",
              "      fill: #174EA6;\n",
              "    }\n",
              "\n",
              "    .colab-df-buttons div {\n",
              "      margin-bottom: 4px;\n",
              "    }\n",
              "\n",
              "    [theme=dark] .colab-df-convert {\n",
              "      background-color: #3B4455;\n",
              "      fill: #D2E3FC;\n",
              "    }\n",
              "\n",
              "    [theme=dark] .colab-df-convert:hover {\n",
              "      background-color: #434B5C;\n",
              "      box-shadow: 0px 1px 3px 1px rgba(0, 0, 0, 0.15);\n",
              "      filter: drop-shadow(0px 1px 2px rgba(0, 0, 0, 0.3));\n",
              "      fill: #FFFFFF;\n",
              "    }\n",
              "  </style>\n",
              "\n",
              "    <script>\n",
              "      const buttonEl =\n",
              "        document.querySelector('#df-8e867384-9780-4dc3-8b9f-d708e28afbfc button.colab-df-convert');\n",
              "      buttonEl.style.display =\n",
              "        google.colab.kernel.accessAllowed ? 'block' : 'none';\n",
              "\n",
              "      async function convertToInteractive(key) {\n",
              "        const element = document.querySelector('#df-8e867384-9780-4dc3-8b9f-d708e28afbfc');\n",
              "        const dataTable =\n",
              "          await google.colab.kernel.invokeFunction('convertToInteractive',\n",
              "                                                    [key], {});\n",
              "        if (!dataTable) return;\n",
              "\n",
              "        const docLinkHtml = 'Like what you see? Visit the ' +\n",
              "          '<a target=\"_blank\" href=https://colab.research.google.com/notebooks/data_table.ipynb>data table notebook</a>'\n",
              "          + ' to learn more about interactive tables.';\n",
              "        element.innerHTML = '';\n",
              "        dataTable['output_type'] = 'display_data';\n",
              "        await google.colab.output.renderOutput(dataTable, element);\n",
              "        const docLink = document.createElement('div');\n",
              "        docLink.innerHTML = docLinkHtml;\n",
              "        element.appendChild(docLink);\n",
              "      }\n",
              "    </script>\n",
              "  </div>\n",
              "\n",
              "\n",
              "<div id=\"df-38024818-6dfe-4ded-83ee-a6611b3a8b11\">\n",
              "  <button class=\"colab-df-quickchart\" onclick=\"quickchart('df-38024818-6dfe-4ded-83ee-a6611b3a8b11')\"\n",
              "            title=\"Suggest charts.\"\n",
              "            style=\"display:none;\">\n",
              "\n",
              "<svg xmlns=\"http://www.w3.org/2000/svg\" height=\"24px\"viewBox=\"0 0 24 24\"\n",
              "     width=\"24px\">\n",
              "    <g>\n",
              "        <path d=\"M19 3H5c-1.1 0-2 .9-2 2v14c0 1.1.9 2 2 2h14c1.1 0 2-.9 2-2V5c0-1.1-.9-2-2-2zM9 17H7v-7h2v7zm4 0h-2V7h2v10zm4 0h-2v-4h2v4z\"/>\n",
              "    </g>\n",
              "</svg>\n",
              "  </button>\n",
              "\n",
              "<style>\n",
              "  .colab-df-quickchart {\n",
              "      --bg-color: #E8F0FE;\n",
              "      --fill-color: #1967D2;\n",
              "      --hover-bg-color: #E2EBFA;\n",
              "      --hover-fill-color: #174EA6;\n",
              "      --disabled-fill-color: #AAA;\n",
              "      --disabled-bg-color: #DDD;\n",
              "  }\n",
              "\n",
              "  [theme=dark] .colab-df-quickchart {\n",
              "      --bg-color: #3B4455;\n",
              "      --fill-color: #D2E3FC;\n",
              "      --hover-bg-color: #434B5C;\n",
              "      --hover-fill-color: #FFFFFF;\n",
              "      --disabled-bg-color: #3B4455;\n",
              "      --disabled-fill-color: #666;\n",
              "  }\n",
              "\n",
              "  .colab-df-quickchart {\n",
              "    background-color: var(--bg-color);\n",
              "    border: none;\n",
              "    border-radius: 50%;\n",
              "    cursor: pointer;\n",
              "    display: none;\n",
              "    fill: var(--fill-color);\n",
              "    height: 32px;\n",
              "    padding: 0;\n",
              "    width: 32px;\n",
              "  }\n",
              "\n",
              "  .colab-df-quickchart:hover {\n",
              "    background-color: var(--hover-bg-color);\n",
              "    box-shadow: 0 1px 2px rgba(60, 64, 67, 0.3), 0 1px 3px 1px rgba(60, 64, 67, 0.15);\n",
              "    fill: var(--button-hover-fill-color);\n",
              "  }\n",
              "\n",
              "  .colab-df-quickchart-complete:disabled,\n",
              "  .colab-df-quickchart-complete:disabled:hover {\n",
              "    background-color: var(--disabled-bg-color);\n",
              "    fill: var(--disabled-fill-color);\n",
              "    box-shadow: none;\n",
              "  }\n",
              "\n",
              "  .colab-df-spinner {\n",
              "    border: 2px solid var(--fill-color);\n",
              "    border-color: transparent;\n",
              "    border-bottom-color: var(--fill-color);\n",
              "    animation:\n",
              "      spin 1s steps(1) infinite;\n",
              "  }\n",
              "\n",
              "  @keyframes spin {\n",
              "    0% {\n",
              "      border-color: transparent;\n",
              "      border-bottom-color: var(--fill-color);\n",
              "      border-left-color: var(--fill-color);\n",
              "    }\n",
              "    20% {\n",
              "      border-color: transparent;\n",
              "      border-left-color: var(--fill-color);\n",
              "      border-top-color: var(--fill-color);\n",
              "    }\n",
              "    30% {\n",
              "      border-color: transparent;\n",
              "      border-left-color: var(--fill-color);\n",
              "      border-top-color: var(--fill-color);\n",
              "      border-right-color: var(--fill-color);\n",
              "    }\n",
              "    40% {\n",
              "      border-color: transparent;\n",
              "      border-right-color: var(--fill-color);\n",
              "      border-top-color: var(--fill-color);\n",
              "    }\n",
              "    60% {\n",
              "      border-color: transparent;\n",
              "      border-right-color: var(--fill-color);\n",
              "    }\n",
              "    80% {\n",
              "      border-color: transparent;\n",
              "      border-right-color: var(--fill-color);\n",
              "      border-bottom-color: var(--fill-color);\n",
              "    }\n",
              "    90% {\n",
              "      border-color: transparent;\n",
              "      border-bottom-color: var(--fill-color);\n",
              "    }\n",
              "  }\n",
              "</style>\n",
              "\n",
              "  <script>\n",
              "    async function quickchart(key) {\n",
              "      const quickchartButtonEl =\n",
              "        document.querySelector('#' + key + ' button');\n",
              "      quickchartButtonEl.disabled = true;  // To prevent multiple clicks.\n",
              "      quickchartButtonEl.classList.add('colab-df-spinner');\n",
              "      try {\n",
              "        const charts = await google.colab.kernel.invokeFunction(\n",
              "            'suggestCharts', [key], {});\n",
              "      } catch (error) {\n",
              "        console.error('Error during call to suggestCharts:', error);\n",
              "      }\n",
              "      quickchartButtonEl.classList.remove('colab-df-spinner');\n",
              "      quickchartButtonEl.classList.add('colab-df-quickchart-complete');\n",
              "    }\n",
              "    (() => {\n",
              "      let quickchartButtonEl =\n",
              "        document.querySelector('#df-38024818-6dfe-4ded-83ee-a6611b3a8b11 button');\n",
              "      quickchartButtonEl.style.display =\n",
              "        google.colab.kernel.accessAllowed ? 'block' : 'none';\n",
              "    })();\n",
              "  </script>\n",
              "</div>\n",
              "    </div>\n",
              "  </div>\n"
            ]
          },
          "metadata": {},
          "execution_count": 8
        }
      ]
    },
    {
      "cell_type": "code",
      "source": [
        "ruspini.info()"
      ],
      "metadata": {
        "colab": {
          "base_uri": "https://localhost:8080/"
        },
        "id": "NYJHvvcSZ9V1",
        "outputId": "2107f927-6606-4b20-dc9b-5c6069737697"
      },
      "execution_count": null,
      "outputs": [
        {
          "output_type": "stream",
          "name": "stdout",
          "text": [
            "<class 'pandas.core.frame.DataFrame'>\n",
            "RangeIndex: 75 entries, 0 to 74\n",
            "Data columns (total 2 columns):\n",
            " #   Column  Non-Null Count  Dtype\n",
            "---  ------  --------------  -----\n",
            " 0   x       75 non-null     int64\n",
            " 1   y       75 non-null     int64\n",
            "dtypes: int64(2)\n",
            "memory usage: 1.3 KB\n"
          ]
        }
      ]
    },
    {
      "cell_type": "markdown",
      "source": [
        "## 3. 데이터 시각화"
      ],
      "metadata": {
        "id": "sIqGm2rVcsv0"
      }
    },
    {
      "cell_type": "code",
      "source": [
        "\n",
        "x = ruspini['x']\n",
        "y = ruspini['y']\n",
        "\n",
        "plt.figure(figsize=(8,8))\n",
        "plt.scatter(x,y,alpha=0.5)\n",
        "plt.title('ruspini')\n",
        "plt.xlabel('x')\n",
        "plt.ylabel('y')\n",
        "plt.show()"
      ],
      "metadata": {
        "colab": {
          "base_uri": "https://localhost:8080/",
          "height": 718
        },
        "id": "STCq-hmFaLT8",
        "outputId": "66b1b75f-02e2-4487-9372-d470b8f8b9ff"
      },
      "execution_count": null,
      "outputs": [
        {
          "output_type": "display_data",
          "data": {
            "text/plain": [
              "<Figure size 800x800 with 1 Axes>"
            ],
            "image/png": "[encoded data removed]"
          },
          "metadata": {}
        }
      ]
    },
    {
      "cell_type": "markdown",
      "source": [
        "## 4. 클러스터 개수 k 설정 및 k개의 클러스터에 데이터 랜덤하게 할당\n",
        "\n",
        "> 4.1. 클러스터 개수 k 설정\n",
        "\n",
        "> 4.2. k개의 클러스터에 데이터 랜덤 할당\n",
        "\n",
        "\n",
        "\n",
        "\n",
        "\n"
      ],
      "metadata": {
        "id": "NcmV1UVBbhsE"
      }
    },
    {
      "cell_type": "markdown",
      "source": [
        "### 4.1. 클러스터 개수 k 설정\n"
      ],
      "metadata": {
        "id": "jOXeRk44diYM"
      }
    },
    {
      "cell_type": "code",
      "source": [
        "k = int(input(\"설정할 클러스터 개수를 입력하시오: \"))"
      ],
      "metadata": {
        "colab": {
          "base_uri": "https://localhost:8080/"
        },
        "id": "WhOn1VoYbhWd",
        "outputId": "253d4298-009e-4cad-e0cd-150583aa7cac"
      },
      "execution_count": null,
      "outputs": [
        {
          "name": "stdout",
          "output_type": "stream",
          "text": [
            "설정할 클러스터 개수를 입력하시오: 4\n"
          ]
        }
      ]
    },
    {
      "cell_type": "markdown",
      "source": [
        "### 4.2. k개의 클러스터에 데이터 랜덤 할당"
      ],
      "metadata": {
        "id": "RTPulltnAs8_"
      }
    },
    {
      "cell_type": "code",
      "source": [
        "X = np.array(ruspini)\n",
        "X"
      ],
      "metadata": {
        "id": "f1V56C5CsK8d",
        "colab": {
          "base_uri": "https://localhost:8080/"
        },
        "outputId": "514c780e-f3bf-480e-d8ba-003e1c77a2df"
      },
      "execution_count": null,
      "outputs": [
        {
          "output_type": "execute_result",
          "data": {
            "text/plain": [
              "array([[  4,  53],\n",
              "       [  5,  63],\n",
              "       [ 10,  59],\n",
              "       [  9,  77],\n",
              "       [ 13,  49],\n",
              "       [ 13,  69],\n",
              "       [ 12,  88],\n",
              "       [ 15,  75],\n",
              "       [ 18,  61],\n",
              "       [ 19,  65],\n",
              "       [ 22,  74],\n",
              "       [ 27,  72],\n",
              "       [ 28,  76],\n",
              "       [ 24,  58],\n",
              "       [ 27,  55],\n",
              "       [ 28,  60],\n",
              "       [ 30,  52],\n",
              "       [ 31,  60],\n",
              "       [ 32,  61],\n",
              "       [ 36,  72],\n",
              "       [ 28, 147],\n",
              "       [ 32, 149],\n",
              "       [ 35, 153],\n",
              "       [ 33, 154],\n",
              "       [ 38, 151],\n",
              "       [ 41, 150],\n",
              "       [ 38, 145],\n",
              "       [ 38, 143],\n",
              "       [ 32, 143],\n",
              "       [ 34, 141],\n",
              "       [ 44, 156],\n",
              "       [ 44, 149],\n",
              "       [ 44, 143],\n",
              "       [ 46, 142],\n",
              "       [ 47, 149],\n",
              "       [ 49, 152],\n",
              "       [ 50, 142],\n",
              "       [ 53, 144],\n",
              "       [ 52, 152],\n",
              "       [ 55, 155],\n",
              "       [ 54, 124],\n",
              "       [ 60, 136],\n",
              "       [ 63, 139],\n",
              "       [ 86, 132],\n",
              "       [ 85, 115],\n",
              "       [ 85,  96],\n",
              "       [ 78,  94],\n",
              "       [ 74,  96],\n",
              "       [ 97, 122],\n",
              "       [ 98, 116],\n",
              "       [ 98, 124],\n",
              "       [ 99, 119],\n",
              "       [ 99, 128],\n",
              "       [101, 115],\n",
              "       [108, 111],\n",
              "       [110, 111],\n",
              "       [108, 116],\n",
              "       [111, 126],\n",
              "       [115, 117],\n",
              "       [117, 115],\n",
              "       [ 70,   4],\n",
              "       [ 77,  12],\n",
              "       [ 83,  21],\n",
              "       [ 61,  15],\n",
              "       [ 69,  15],\n",
              "       [ 78,  16],\n",
              "       [ 66,  18],\n",
              "       [ 58,  13],\n",
              "       [ 64,  20],\n",
              "       [ 69,  21],\n",
              "       [ 66,  23],\n",
              "       [ 61,  25],\n",
              "       [ 76,  27],\n",
              "       [ 72,  31],\n",
              "       [ 64,  30]])"
            ]
          },
          "metadata": {},
          "execution_count": 12
        }
      ]
    },
    {
      "cell_type": "code",
      "source": [
        "# 각 데이터에 대해 랜덤한 클러스터 선택\n",
        "cluster_labels = np.random.choice(k, size=len(X))\n",
        "\n",
        "# 각 클러스터에 속하는 데이터들을 저장할 빈 리스트 생성\n",
        "clusters = [[] for _ in range(k)]\n",
        "\n",
        "# 모든 데이터에 대해, 해당하는 클러스터 리스트에 추가\n",
        "for i in range(len(X)):\n",
        "    clusters[cluster_labels[i]].append(X[i])\n",
        "\n",
        "# numpy array로 변환\n",
        "clusters = [np.array(cluster) for cluster in clusters]\n",
        "print(\"클러스터: \", clusters, sep='\\n')\n",
        "print(\"각 데이터의 클러스터 index: \", cluster_labels, sep='\\n')"
      ],
      "metadata": {
        "colab": {
          "base_uri": "https://localhost:8080/"
        },
        "id": "nD9wMk8T2Hw4",
        "outputId": "f1206c16-b6e0-496d-94fb-df6e5e68bff5"
      },
      "execution_count": null,
      "outputs": [
        {
          "output_type": "stream",
          "name": "stdout",
          "text": [
            "클러스터: \n",
            "[array([[  4,  53],\n",
            "       [ 12,  88],\n",
            "       [ 19,  65],\n",
            "       [ 28,  60],\n",
            "       [ 31,  60],\n",
            "       [ 32,  61],\n",
            "       [ 38, 151],\n",
            "       [ 41, 150],\n",
            "       [ 32, 143],\n",
            "       [ 44, 156],\n",
            "       [ 44, 149],\n",
            "       [ 47, 149],\n",
            "       [ 50, 142],\n",
            "       [ 53, 144],\n",
            "       [ 52, 152],\n",
            "       [ 86, 132],\n",
            "       [ 85, 115],\n",
            "       [ 85,  96],\n",
            "       [ 99, 119],\n",
            "       [ 99, 128],\n",
            "       [ 69,  15],\n",
            "       [ 64,  20],\n",
            "       [ 69,  21],\n",
            "       [ 61,  25]]), array([[ 13,  49],\n",
            "       [ 15,  75],\n",
            "       [ 27,  72],\n",
            "       [ 24,  58],\n",
            "       [ 38, 143],\n",
            "       [ 44, 143],\n",
            "       [ 46, 142],\n",
            "       [ 49, 152],\n",
            "       [ 55, 155],\n",
            "       [ 54, 124],\n",
            "       [ 63, 139],\n",
            "       [ 78,  94],\n",
            "       [ 74,  96],\n",
            "       [ 97, 122],\n",
            "       [101, 115],\n",
            "       [110, 111],\n",
            "       [117, 115],\n",
            "       [ 70,   4],\n",
            "       [ 77,  12],\n",
            "       [ 66,  23],\n",
            "       [ 76,  27]]), array([[  5,  63],\n",
            "       [ 10,  59],\n",
            "       [ 13,  69],\n",
            "       [ 18,  61],\n",
            "       [ 22,  74],\n",
            "       [ 30,  52],\n",
            "       [ 35, 153],\n",
            "       [ 38, 145],\n",
            "       [ 60, 136],\n",
            "       [ 98, 124],\n",
            "       [108, 111],\n",
            "       [ 61,  15],\n",
            "       [ 78,  16],\n",
            "       [ 66,  18],\n",
            "       [ 58,  13],\n",
            "       [ 72,  31]]), array([[  9,  77],\n",
            "       [ 28,  76],\n",
            "       [ 27,  55],\n",
            "       [ 36,  72],\n",
            "       [ 28, 147],\n",
            "       [ 32, 149],\n",
            "       [ 33, 154],\n",
            "       [ 34, 141],\n",
            "       [ 98, 116],\n",
            "       [108, 116],\n",
            "       [111, 126],\n",
            "       [115, 117],\n",
            "       [ 83,  21],\n",
            "       [ 64,  30]])]\n",
            "각 데이터의 클러스터 index: \n",
            "[0 2 2 3 1 2 0 1 2 0 2 1 3 1 3 0 2 0 0 3 3 3 2 3 0 0 2 1 0 3 0 0 1 1 0 1 0\n",
            " 0 0 1 1 2 1 0 0 0 1 1 1 3 2 0 0 1 2 1 3 3 3 1 1 1 3 2 0 2 2 2 0 0 1 0 1 2\n",
            " 3]\n"
          ]
        }
      ]
    },
    {
      "cell_type": "markdown",
      "source": [
        "\n",
        "> 클러스터 시각화\n",
        "\n"
      ],
      "metadata": {
        "id": "Ohu254uglVMV"
      }
    },
    {
      "cell_type": "code",
      "source": [
        "plt.scatter(x, y, c=cluster_labels, alpha=0.5)\n",
        "plt.show()"
      ],
      "metadata": {
        "colab": {
          "base_uri": "https://localhost:8080/",
          "height": 430
        },
        "id": "6XKpIY3qlM8W",
        "outputId": "4f529a9a-51fa-4b44-9ef4-8995ff25dc29"
      },
      "execution_count": null,
      "outputs": [
        {
          "output_type": "display_data",
          "data": {
            "text/plain": [
              "<Figure size 640x480 with 1 Axes>"
            ],
            "image/png": "[encoded data removed]"
          },
          "metadata": {}
        }
      ]
    },
    {
      "cell_type": "markdown",
      "source": [
        "## 5. 각 클러스터의 평균(centroid)를 구하고, 평가값 계산\n",
        "\n",
        "> 5.1. 각 클러스터의 평균(centroid) 계산\n",
        "\n",
        "> 5.2. 각 클러스터 안에 있는 모든 데이터에서 평균(centroid)까지의 거리 합 계산\n",
        "\n",
        "> 5.3. 평가값 산출\n",
        "\n",
        "\n",
        "\n",
        "\n",
        "\n"
      ],
      "metadata": {
        "id": "Vt8xuX9LEqUu"
      }
    },
    {
      "cell_type": "markdown",
      "source": [
        "### 5.1. 각 클러스터의 평균(centroid) 계산"
      ],
      "metadata": {
        "id": "xHERaDlCFx70"
      }
    },
    {
      "cell_type": "code",
      "source": [
        "# 각 클러스터의 centroid 계산\n",
        "\n",
        "# centroids = []\n",
        "# for cluster in clusters:\n",
        "#   centroid = np.mean(cluster, axis=0)\n",
        "#   centroids.append(centroid)\n",
        "\n",
        "centroids = [np.mean(cluster, axis=0) for cluster in clusters]  # axis=0으로 x, y끼리 계산\n",
        "\n",
        "# numpy array로 변환\n",
        "centroids = np.array(centroids)\n",
        "\n",
        "print(\"Centroids:\", centroids, sep='\\n')"
      ],
      "metadata": {
        "colab": {
          "base_uri": "https://localhost:8080/"
        },
        "id": "fC9UZKOk7WOt",
        "outputId": "8b5e7536-0ea2-4538-c17a-4ca7b4372b92"
      },
      "execution_count": null,
      "outputs": [
        {
          "output_type": "stream",
          "name": "stdout",
          "text": [
            "Centroids:\n",
            "[[51.83333333 99.75      ]\n",
            " [61.61904762 93.85714286]\n",
            " [48.25       71.25      ]\n",
            " [57.57142857 99.78571429]]\n"
          ]
        }
      ]
    },
    {
      "cell_type": "markdown",
      "source": [
        "\n",
        "> centroids 시각화\n",
        "\n"
      ],
      "metadata": {
        "id": "G2QKU1jmF3kc"
      }
    },
    {
      "cell_type": "code",
      "source": [
        "plt.scatter(x, y, c=cluster_labels, alpha=0.5)\n",
        "plt.scatter(centroids[:,0], centroids[:,1], c='blue', marker='X')\t# centroids는 파란색 X표시 입니다.\n",
        "plt.show()"
      ],
      "metadata": {
        "colab": {
          "base_uri": "https://localhost:8080/",
          "height": 430
        },
        "id": "vf_jQfuko9V-",
        "outputId": "dc790b40-92bb-49e3-acad-322133304cf9"
      },
      "execution_count": null,
      "outputs": [
        {
          "output_type": "display_data",
          "data": {
            "text/plain": [
              "<Figure size 640x480 with 1 Axes>"
            ],
            "image/png": "[encoded data removed]"
          },
          "metadata": {}
        }
      ]
    },
    {
      "cell_type": "markdown",
      "source": [
        "### 5.2. 각 클러스터 안에 있는 모든 데이터에서 평균(centroid)까지의 거리 합 계산\n",
        "- 강의록 2. K-means 설명_6p 참고\n",
        "![image.png](data:image/png;base64,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)"
      ],
      "metadata": {
        "id": "l55Aue8iF-QN"
      }
    },
    {
      "cell_type": "code",
      "source": [
        "distance_sums = []\n",
        "\n",
        "for i in range(len(clusters)):\n",
        "  cluster = clusters[i]\n",
        "  centroid = centroids[i]\n",
        "\n",
        "  distance_sum = np.sum(np.sqrt(np.sum((cluster - centroid)**2, axis=1)))   # axis=1로 cluster안의 데이터의 x값 - centroid의 x값, y값을 구할 수 있음\n",
        "\n",
        "  distance_sums.append(distance_sum)\n",
        "\n",
        "print(\"각 centroid까지의 거리 합: \", distance_sums, sep='\\n')"
      ],
      "metadata": {
        "colab": {
          "base_uri": "https://localhost:8080/"
        },
        "id": "sNsXjegwuEZS",
        "outputId": "69737e1c-5321-4680-b561-352a451a9021"
      },
      "execution_count": null,
      "outputs": [
        {
          "output_type": "stream",
          "name": "stdout",
          "text": [
            "각 centroid까지의 거리 합: \n",
            "[1283.8453284023394, 1106.3226106919453, 854.0841003481747, 768.0403563638317]\n"
          ]
        }
      ]
    },
    {
      "cell_type": "markdown",
      "source": [
        "### 5.3. 평가값 산출"
      ],
      "metadata": {
        "id": "fN1FeFHyGEst"
      }
    },
    {
      "cell_type": "code",
      "source": [
        "total_distance = np.sum(distance_sums)\n",
        "print(\"평가값: \", total_distance)"
      ],
      "metadata": {
        "colab": {
          "base_uri": "https://localhost:8080/"
        },
        "id": "hnMOWXUV-3M-",
        "outputId": "6debf19c-02b7-473d-c836-880554f52efa"
      },
      "execution_count": null,
      "outputs": [
        {
          "output_type": "stream",
          "name": "stdout",
          "text": [
            "평가값:  4012.292395806291\n"
          ]
        }
      ]
    },
    {
      "cell_type": "markdown",
      "source": [
        "## 6. 모든 데이터를 k개의 평균(centroid) 중에서 가장 가까운 클러스터로 재할당하여 새로운 클러스터 해 구성"
      ],
      "metadata": {
        "id": "LIpwPqZ_jNKJ"
      }
    },
    {
      "cell_type": "code",
      "source": [
        "# 새로운 클러스터와 레이블을 저장할 빈 리스트 생성\n",
        "cluster_labels = np.zeros(len(X))\n",
        "new_clusters = [[] for _ in range(len(centroids))]\n",
        "\n",
        "# 모든 데이터에 대해 반복\n",
        "for i, data in enumerate(X):\n",
        "\n",
        "  # 각 데이터의 centroid와의 거리 계산\n",
        "  distances = [np.sqrt(np.sum((data - centroid)**2)) for centroid in centroids]\n",
        "\n",
        "  # 가장 가까운 centroid의 인덱스 반환\n",
        "  closest_centroid_index = np.argmin(distances)\n",
        "\n",
        "  # 해당 클러스터에 데이터 추가 및 레이블 할당\n",
        "  new_clusters[closest_centroid_index].append(data)\n",
        "  cluster_labels[i] = closest_centroid_index  # 위에서 찾은 가장 가까운 centroid의 인덱스가 클러스터 레이블이 됨\n",
        "\n",
        "# 새로운 클러스터를 numpy array로 변환\n",
        "new_clusters = [np.array(cluster) for cluster in new_clusters]\n",
        "\n",
        "print(\"새로운 클러스터: \", new_clusters, sep='\\n')\n",
        "print(\"클러스터 번호: \", cluster_labels, sep='\\n')"
      ],
      "metadata": {
        "id": "IzDfjskeB9K9",
        "colab": {
          "base_uri": "https://localhost:8080/"
        },
        "outputId": "dd179d38-5782-4c00-9a2d-77c47bf6f22a"
      },
      "execution_count": null,
      "outputs": [
        {
          "output_type": "stream",
          "name": "stdout",
          "text": [
            "새로운 클러스터: \n",
            "[array([[ 28, 147],\n",
            "       [ 32, 149],\n",
            "       [ 35, 153],\n",
            "       [ 33, 154],\n",
            "       [ 38, 151],\n",
            "       [ 41, 150],\n",
            "       [ 38, 145],\n",
            "       [ 38, 143],\n",
            "       [ 32, 143],\n",
            "       [ 34, 141],\n",
            "       [ 44, 156],\n",
            "       [ 44, 149],\n",
            "       [ 44, 143],\n",
            "       [ 46, 142],\n",
            "       [ 47, 149],\n",
            "       [ 49, 152],\n",
            "       [ 50, 142],\n",
            "       [ 53, 144],\n",
            "       [ 52, 152],\n",
            "       [ 54, 124]]), array([[ 85,  96],\n",
            "       [ 78,  94],\n",
            "       [ 74,  96],\n",
            "       [ 97, 122],\n",
            "       [ 98, 116],\n",
            "       [ 99, 119],\n",
            "       [101, 115],\n",
            "       [108, 111],\n",
            "       [110, 111],\n",
            "       [108, 116],\n",
            "       [111, 126],\n",
            "       [115, 117],\n",
            "       [117, 115]]), array([[ 4, 53],\n",
            "       [ 5, 63],\n",
            "       [10, 59],\n",
            "       [ 9, 77],\n",
            "       [13, 49],\n",
            "       [13, 69],\n",
            "       [12, 88],\n",
            "       [15, 75],\n",
            "       [18, 61],\n",
            "       [19, 65],\n",
            "       [22, 74],\n",
            "       [27, 72],\n",
            "       [28, 76],\n",
            "       [24, 58],\n",
            "       [27, 55],\n",
            "       [28, 60],\n",
            "       [30, 52],\n",
            "       [31, 60],\n",
            "       [32, 61],\n",
            "       [36, 72],\n",
            "       [70,  4],\n",
            "       [77, 12],\n",
            "       [83, 21],\n",
            "       [61, 15],\n",
            "       [69, 15],\n",
            "       [78, 16],\n",
            "       [66, 18],\n",
            "       [58, 13],\n",
            "       [64, 20],\n",
            "       [69, 21],\n",
            "       [66, 23],\n",
            "       [61, 25],\n",
            "       [76, 27],\n",
            "       [72, 31],\n",
            "       [64, 30]]), array([[ 55, 155],\n",
            "       [ 60, 136],\n",
            "       [ 63, 139],\n",
            "       [ 86, 132],\n",
            "       [ 85, 115],\n",
            "       [ 98, 124],\n",
            "       [ 99, 128]])]\n",
            "클러스터 번호: \n",
            "[2. 2. 2. 2. 2. 2. 2. 2. 2. 2. 2. 2. 2. 2. 2. 2. 2. 2. 2. 2. 0. 0. 0. 0.\n",
            " 0. 0. 0. 0. 0. 0. 0. 0. 0. 0. 0. 0. 0. 0. 0. 3. 0. 3. 3. 3. 3. 1. 1. 1.\n",
            " 1. 1. 3. 1. 3. 1. 1. 1. 1. 1. 1. 1. 2. 2. 2. 2. 2. 2. 2. 2. 2. 2. 2. 2.\n",
            " 2. 2. 2.]\n"
          ]
        }
      ]
    },
    {
      "cell_type": "markdown",
      "source": [
        "\n",
        "> 새로운 클러스터 시각화\n",
        "\n"
      ],
      "metadata": {
        "id": "QsSllgvClDLt"
      }
    },
    {
      "cell_type": "code",
      "source": [
        "plt.scatter(x, y, c=cluster_labels, alpha=0.5)\n",
        "plt.scatter(centroids[:,0], centroids[:,1], c='blue', marker='X')\t# centroids는 파란색 X표시 입니다.\n",
        "plt.show()"
      ],
      "metadata": {
        "colab": {
          "base_uri": "https://localhost:8080/",
          "height": 430
        },
        "id": "3-V_MIpAZNGb",
        "outputId": "2093ad5a-91b6-494f-ca3d-f8d1f7ec923c"
      },
      "execution_count": null,
      "outputs": [
        {
          "output_type": "display_data",
          "data": {
            "text/plain": [
              "<Figure size 640x480 with 1 Axes>"
            ],
            "image/png": "[encoded data removed]"
          },
          "metadata": {}
        }
      ]
    },
    {
      "cell_type": "markdown",
      "source": [
        "## 7. 클러스터 해의 변화가 있는지 확인\n",
        "\n",
        "> 7.1. 새로운 클러스터의 평균(centroid) 계산\n",
        "\n",
        "> 7.2. 이전의 centroids와 새로운 centroids 비교\n",
        "\n",
        "\n",
        "\n",
        "\n",
        "\n",
        "\n",
        "\n",
        "\n",
        "\n"
      ],
      "metadata": {
        "id": "Pb3JOGOOmiZU"
      }
    },
    {
      "cell_type": "markdown",
      "source": [
        "### 7.1. 새로운 클러스터의 평균(centroid) 계산"
      ],
      "metadata": {
        "id": "LkydA-KrlsBx"
      }
    },
    {
      "cell_type": "code",
      "source": [
        "new_centroids = [np.mean(cluster, axis=0) for cluster in new_clusters]  # axis=0으로 x, y끼리 각각 계산\n",
        "\n",
        "# numpy array로 변환\n",
        "new_centroids = np.array(new_centroids)\n",
        "\n",
        "print(\"Centroids:\", new_centroids, sep='\\n')"
      ],
      "metadata": {
        "colab": {
          "base_uri": "https://localhost:8080/"
        },
        "id": "IgANtPKlbQNa",
        "outputId": "127b286d-4b7a-4a58-aa98-74c02647ded0"
      },
      "execution_count": null,
      "outputs": [
        {
          "output_type": "stream",
          "name": "stdout",
          "text": [
            "Centroids:\n",
            "[[ 41.6        146.45      ]\n",
            " [100.07692308 111.84615385]\n",
            " [ 41.05714286  45.42857143]\n",
            " [ 78.         132.71428571]]\n"
          ]
        }
      ]
    },
    {
      "cell_type": "markdown",
      "source": [
        "### 7.2. 이전의 centroids와 새로운 centroids 비교\n",
        "\n"
      ],
      "metadata": {
        "id": "Anrk37bel8CP"
      }
    },
    {
      "cell_type": "markdown",
      "source": [
        "\n",
        "> 이전의 centroids와 새로운 centroids의 비교 시각화\n",
        "\n"
      ],
      "metadata": {
        "id": "809wWmWiq0bo"
      }
    },
    {
      "cell_type": "code",
      "source": [
        "plt.scatter(x, y, c=cluster_labels, alpha=0.5)\n",
        "plt.scatter(centroids[:,0], centroids[:,1], c='blue', marker='X')  # centroids는 파란색 X 표시입니다.\n",
        "plt.scatter(new_centroids[:,0], new_centroids[:,1], c='red', marker='D')  # new_centroids는 빨간색 다이아 표시입니다.\n",
        "plt.show()"
      ],
      "metadata": {
        "colab": {
          "base_uri": "https://localhost:8080/",
          "height": 430
        },
        "id": "osB0rCIVddt3",
        "outputId": "2cb697f0-3f67-47ef-eabd-a0005b426ea6"
      },
      "execution_count": null,
      "outputs": [
        {
          "output_type": "display_data",
          "data": {
            "text/plain": [
              "<Figure size 640x480 with 1 Axes>"
            ],
            "image/png": "[encoded data removed]"
          },
          "metadata": {}
        }
      ]
    },
    {
      "cell_type": "code",
      "source": [
        "error = np.zeros((k, centroids.shape[1]))   # .shape[1]: 열 개수, .shape[0]: 행 개수\n",
        "for i in range(k):\n",
        "  error[i] = np.sqrt(np.sum((centroids[i] - new_centroids[i])**2))\n",
        "print(\"이전의 centroid와의 오차: \", error, sep='\\n')\n",
        "print(\"========================================================\")\n",
        "\n",
        "if error.all() != 0:\n",
        "  print(\"새로운 클러스터를 구성을 반복하시오\")\n",
        "\n",
        "if error.all() == 0:\n",
        "  print(\"최종 클러스터: \", clusters, sep='\\n')\n",
        "  print(\"클러스터 레이블: \", cluster_labels, sep='\\n')\n",
        "  print(\"최종 평가값: \", total_distance, sep='\\n')\n",
        "  plt.scatter(x, y, c=cluster_labels, alpha=0.5)\n",
        "  plt.scatter(new_centroids[:,0], new_centroids[:,1], c='red', marker='D')\n",
        "  plt.show()"
      ],
      "metadata": {
        "colab": {
          "base_uri": "https://localhost:8080/"
        },
        "id": "gzmFnrLYoFzI",
        "outputId": "0d8ea1ff-53c1-49db-d580-34099fb14297"
      },
      "execution_count": null,
      "outputs": [
        {
          "output_type": "stream",
          "name": "stdout",
          "text": [
            "이전의 centroid와의 오차: \n",
            "[[47.80806534 47.80806534]\n",
            " [42.45718668 42.45718668]\n",
            " [26.80454005 26.80454005]\n",
            " [38.7507077  38.7507077 ]]\n",
            "========================================================\n",
            "새로운 클러스터를 구성을 반복하시오\n"
          ]
        }
      ]
    },
    {
      "cell_type": "code",
      "source": [],
      "metadata": {
        "id": "51cnH4Bjx0X2"
      },
      "execution_count": null,
      "outputs": []
    }
  ]
}